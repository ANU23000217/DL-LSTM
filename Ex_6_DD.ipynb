{
 "cells": [
  {
   "cell_type": "code",
   "execution_count": 1,
   "id": "044fe6d9-4f3e-41b8-b44e-b31bc64d2e12",
   "metadata": {},
   "outputs": [],
   "source": [
    "import pandas as pd\n",
    "import torch\n",
    "import torch.nn as nn\n",
    "import numpy as np\n",
    "import matplotlib.pyplot as plt\n",
    "from torch.utils.data import Dataset, DataLoader\n",
    "from torch.nn.utils.rnn import pad_sequence\n",
    "import warnings\n",
    "warnings.filterwarnings(\"ignore\", category=DeprecationWarning)"
   ]
  },
  {
   "cell_type": "code",
   "execution_count": 2,
   "id": "b6090c61-d283-4647-8cb6-24f41b898adc",
   "metadata": {},
   "outputs": [
    {
     "name": "stdout",
     "output_type": "stream",
     "text": [
      "Using device: cuda\n"
     ]
    }
   ],
   "source": [
    "device = torch.device('cuda' if torch.cuda.is_available() else 'cpu')\n",
    "print(f\"Using device: {device}\")"
   ]
  },
  {
   "cell_type": "code",
   "execution_count": 4,
   "id": "bce63064-7720-4e22-a977-28c4de20ee5c",
   "metadata": {},
   "outputs": [],
   "source": [
    "data = pd.read_csv(r\"C:\\Users\\admin\\deep_earning\\ner_dataset.csv\", encoding=\"latin1\").ffill()"
   ]
  },
  {
   "cell_type": "code",
   "execution_count": 5,
   "id": "07e7a047-2603-4d45-88fc-31ea31676364",
   "metadata": {},
   "outputs": [],
   "source": [
    "words = list(data[\"Word\"].unique())\n",
    "tags = list(data[\"Tag\"].unique())\n",
    "\n",
    "if \"ENDPAD\" not in words:\n",
    "    words.append(\"ENDPAD\")\n",
    "\n",
    "if \"PAD\" not in tags:\n",
    "    tags.append(\"PAD\")\n",
    "\n",
    "if \"O\" not in tags:\n",
    "    print(\"Warning: 'O' tag not present in dataset. Continuing without it.\")"
   ]
  },
  {
   "cell_type": "code",
   "execution_count": 6,
   "id": "5bee7cab-de54-48c6-a8ad-a3c2146f66a0",
   "metadata": {},
   "outputs": [],
   "source": [
    "word2idx = {w: i + 1 for i, w in enumerate(words)}  \n",
    "tag2idx = {t: i for i, t in enumerate(tags)}       \n",
    "idx2tag = {i: t for t, i in tag2idx.items()}"
   ]
  },
  {
   "cell_type": "code",
   "execution_count": 7,
   "id": "ef534e05-4bc5-4c16-a2dd-e77d6edbc0ee",
   "metadata": {},
   "outputs": [
    {
     "name": "stdout",
     "output_type": "stream",
     "text": [
      "Unique words in corpus: 35177\n",
      "Unique tags in corpus: 17\n",
      "All tags (including PAD): ['O', 'B-geo', 'B-gpe', 'B-per', 'I-geo', 'B-org', 'I-org', 'B-tim', 'B-art', 'I-art', 'I-per', 'I-gpe', 'I-tim', 'B-nat', 'B-eve', 'I-eve', 'I-nat', 'PAD']\n"
     ]
    }
   ],
   "source": [
    "print(\"Unique words in corpus:\", data['Word'].nunique())\n",
    "print(\"Unique tags in corpus:\", data['Tag'].nunique())\n",
    "print(\"All tags (including PAD):\", tags)"
   ]
  },
  {
   "cell_type": "code",
   "execution_count": 8,
   "id": "0caa0053-f1eb-4084-932e-e6bd102d2ad4",
   "metadata": {},
   "outputs": [
    {
     "name": "stdout",
     "output_type": "stream",
     "text": [
      "Example sentence (index 0): [('Thousands', 'O'), ('of', 'O'), ('demonstrators', 'O'), ('have', 'O'), ('marched', 'O'), ('through', 'O'), ('London', 'B-geo'), ('to', 'O'), ('protest', 'O'), ('the', 'O'), ('war', 'O'), ('in', 'O'), ('Iraq', 'B-geo'), ('and', 'O'), ('demand', 'O'), ('the', 'O'), ('withdrawal', 'O'), ('of', 'O'), ('British', 'B-gpe'), ('troops', 'O'), ('from', 'O'), ('that', 'O'), ('country', 'O'), ('.', 'O')]\n"
     ]
    },
    {
     "name": "stderr",
     "output_type": "stream",
     "text": [
      "C:\\Users\\admin\\AppData\\Local\\Temp\\ipykernel_13932\\3388924487.py:4: FutureWarning: DataFrameGroupBy.apply operated on the grouping columns. This behavior is deprecated, and in a future version of pandas the grouping columns will be excluded from the operation. Either pass `include_groups=False` to exclude the groupings or explicitly select the grouping columns after groupby to silence this warning.\n",
      "  grouped = data.groupby(\"Sentence #\", group_keys=False).apply(\n"
     ]
    }
   ],
   "source": [
    "class SentenceGetter:\n",
    "    def __init__(self, data):\n",
    "       \n",
    "        grouped = data.groupby(\"Sentence #\", group_keys=False).apply(\n",
    "            lambda s: [(w, t) for w, t in zip(s[\"Word\"], s[\"Tag\"])]\n",
    "        )\n",
    "        self.sentences = list(grouped)\n",
    "\n",
    "getter = SentenceGetter(data)\n",
    "sentences = getter.sentences\n",
    "print(\"Example sentence (index 0):\", sentences[0])"
   ]
  },
  {
   "cell_type": "code",
   "execution_count": 9,
   "id": "76f95a70-0eff-495b-ae97-5f58d4aa508e",
   "metadata": {},
   "outputs": [],
   "source": [
    "X = [[word2idx[w] for w, t in s] for s in sentences]\n",
    "y = [[tag2idx[t] for w, t in s] for s in sentences]"
   ]
  },
  {
   "cell_type": "code",
   "execution_count": 10,
   "id": "cfa75454-f2b5-470b-8425-ce6802f7be78",
   "metadata": {},
   "outputs": [
    {
     "data": {
      "image/png": "[encoded data removed]",
      "text/plain": [
       "<Figure size 640x480 with 1 Axes>"
      ]
     },
     "metadata": {},
     "output_type": "display_data"
    }
   ],
   "source": [
    "plt.hist([len(s) for s in sentences], bins=50)\n",
    "plt.title(\"Sentence length distribution\")\n",
    "plt.xlabel(\"Length\")\n",
    "plt.ylabel(\"Count\")\n",
    "plt.show()"
   ]
  },
  {
   "cell_type": "code",
   "execution_count": 11,
   "id": "14a7f1da-f765-45b8-9766-81d9c3615e45",
   "metadata": {},
   "outputs": [],
   "source": [
    "max_len = 50\n",
    "\n",
    "X_tensors = [torch.tensor(seq, dtype=torch.long) for seq in X]\n",
    "y_tensors = [torch.tensor(seq, dtype=torch.long) for seq in y]\n",
    "\n",
    "pad_input_value = word2idx[\"ENDPAD\"]                   \n",
    "pad_label_value = tag2idx[\"PAD\"]           "
   ]
  },
  {
   "cell_type": "code",
   "execution_count": 12,
   "id": "7b6aebc2-0e41-4b8e-9faf-c65492ec9500",
   "metadata": {},
   "outputs": [],
   "source": [
    "X_pad = pad_sequence(X_tensors, batch_first=True, padding_value=pad_input_value)\n",
    "y_pad = pad_sequence(y_tensors, batch_first=True, padding_value=pad_label_value)\n"
   ]
  },
  {
   "cell_type": "code",
   "execution_count": 13,
   "id": "909a9971-a020-4420-88cc-a2632017d6d3",
   "metadata": {},
   "outputs": [
    {
     "name": "stdout",
     "output_type": "stream",
     "text": [
      "X_pad shape: torch.Size([47959, 50])\n",
      "y_pad shape: torch.Size([47959, 50])\n"
     ]
    }
   ],
   "source": [
    "if X_pad.size(1) < max_len:\n",
    "\n",
    "    pad_amt = max_len - X_pad.size(1)\n",
    "    X_pad = torch.cat([X_pad, torch.full((X_pad.size(0), pad_amt), pad_input_value, dtype=torch.long)], dim=1)\n",
    "    y_pad = torch.cat([y_pad, torch.full((y_pad.size(0), pad_amt), pad_label_value, dtype=torch.long)], dim=1)\n",
    "else:\n",
    "    X_pad = X_pad[:, :max_len]\n",
    "    y_pad = y_pad[:, :max_len]\n",
    "\n",
    "print(\"X_pad shape:\", X_pad.shape)\n",
    "print(\"y_pad shape:\", y_pad.shape)"
   ]
  },
  {
   "cell_type": "code",
   "execution_count": 14,
   "id": "f05cc081-f98f-47da-92c5-c10a70e92494",
   "metadata": {},
   "outputs": [],
   "source": [
    "dataset_size = X_pad.size(0)\n",
    "perm = torch.randperm(dataset_size)\n",
    "train_size = int(0.8 * dataset_size)\n",
    "train_idx = perm[:train_size]\n",
    "test_idx = perm[train_size:]\n",
    "\n",
    "X_train = X_pad[train_idx]\n",
    "y_train = y_pad[train_idx]\n",
    "X_test = X_pad[test_idx]\n",
    "y_test = y_pad[test_idx]"
   ]
  },
  {
   "cell_type": "code",
   "execution_count": 15,
   "id": "a2d81dc9-ff8e-4ea7-8c0c-57ad7bd43092",
   "metadata": {},
   "outputs": [],
   "source": [
    "class NERDataset(Dataset):\n",
    "    def __init__(self, X, y):\n",
    "        self.X = X\n",
    "        self.y = y\n",
    "    def __len__(self):\n",
    "        return len(self.X)\n",
    "    def __getitem__(self, idx):\n",
    "        return {\n",
    "            \"input_ids\": self.X[idx],\n",
    "            \"labels\": self.y[idx]\n",
    "        }\n"
   ]
  },
  {
   "cell_type": "code",
   "execution_count": 16,
   "id": "10a15c9d-cad0-42f4-9fa6-3dff6a562f83",
   "metadata": {},
   "outputs": [],
   "source": [
    "train_loader = DataLoader(NERDataset(X_train, y_train), batch_size=32, shuffle=True)\n",
    "test_loader = DataLoader(NERDataset(X_test, y_test), batch_size=32, shuffle=False)"
   ]
  },
  {
   "cell_type": "code",
   "execution_count": 17,
   "id": "929d4dd3-4077-4d43-beaf-819e050c6e03",
   "metadata": {},
   "outputs": [],
   "source": [
    "class BiLSTMTagger(nn.Module):\n",
    "    def __init__(self, vocab_size, tagset_size, embedding_dim=50, hidden_dim=100, dropout=0.1):\n",
    "        super(BiLSTMTagger, self).__init__()\n",
    "        self.embedding = nn.Embedding(vocab_size, embedding_dim, padding_idx=0)\n",
    "        self.dropout = nn.Dropout(dropout)\n",
    "        self.lstm = nn.LSTM(embedding_dim, hidden_dim, batch_first=True, bidirectional=True)\n",
    "        self.fc = nn.Linear(hidden_dim * 2, tagset_size)\n",
    "\n",
    "    def forward(self, x):\n",
    "        x = self.embedding(x)           \n",
    "        x = self.dropout(x)\n",
    "        x, _ = self.lstm(x)         \n",
    "        out = self.fc(x)     \n",
    "        return out"
   ]
  },
  {
   "cell_type": "code",
   "execution_count": 18,
   "id": "58a9558e-27ac-4ddf-8ee9-86e29e58ebfb",
   "metadata": {},
   "outputs": [],
   "source": [
    "vocab_size = len(word2idx) + 1   \n",
    "tagset_size = len(tag2idx)\n",
    "\n",
    "model = BiLSTMTagger(vocab_size=vocab_size, tagset_size=tagset_size).to(device)\n",
    "\n",
    "loss_fn = nn.CrossEntropyLoss(ignore_index=pad_label_value)\n",
    "optimizer = torch.optim.Adam(model.parameters(), lr=0.001)"
   ]
  },
  {
   "cell_type": "code",
   "execution_count": 19,
   "id": "321307fb-4d5a-46d0-a692-68a3973e763c",
   "metadata": {},
   "outputs": [],
   "source": [
    "\n",
    "def train_model(model, train_loader, val_loader, loss_fn, optimizer, epochs=3):\n",
    "    train_losses, val_losses = [], []\n",
    "    for epoch in range(epochs):\n",
    "        model.train()\n",
    "        total_loss = 0.0\n",
    "        for batch in train_loader:\n",
    "            input_ids = batch[\"input_ids\"].to(device)\n",
    "            labels = batch[\"labels\"].to(device)  # shape (batch, seq_len)\n",
    "            optimizer.zero_grad()\n",
    "            outputs = model(input_ids)          \n",
    "            loss = loss_fn(outputs.view(-1, tagset_size), labels.view(-1))\n",
    "            loss.backward()\n",
    "            optimizer.step()\n",
    "            total_loss += loss.item()\n",
    "\n",
    "        # validation\n",
    "        model.eval()\n",
    "        val_loss = 0.0\n",
    "        with torch.no_grad():\n",
    "            for batch in val_loader:\n",
    "                input_ids = batch[\"input_ids\"].to(device)\n",
    "                labels = batch[\"labels\"].to(device)\n",
    "                outputs = model(input_ids)\n",
    "                loss = loss_fn(outputs.view(-1, tagset_size), labels.view(-1))\n",
    "                val_loss += loss.item()\n",
    "\n",
    "        train_losses.append(total_loss)\n",
    "        val_losses.append(val_loss)\n",
    "        print(f\"Epoch {epoch+1}/{epochs} — Train Loss: {total_loss:.4f} — Val Loss: {val_loss:.4f}\")\n",
    "\n",
    "    return train_losses, val_losses\n"
   ]
  },
  {
   "cell_type": "code",
   "execution_count": 20,
   "id": "ee8793b0-0676-4634-b80b-24e866eed264",
   "metadata": {},
   "outputs": [
    {
     "name": "stdout",
     "output_type": "stream",
     "text": [
      "Epoch 1/3 — Train Loss: 505.6779 — Val Loss: 69.5020\n",
      "Epoch 2/3 — Train Loss: 234.4095 — Val Loss: 50.9540\n",
      "Epoch 3/3 — Train Loss: 175.8245 — Val Loss: 43.0968\n",
      "\n",
      "Classification Report (ignoring PAD):\n",
      "              precision    recall  f1-score   support\n",
      "\n",
      "       B-art       0.00      0.00      0.00        86\n",
      "       B-eve       0.84      0.21      0.34        75\n",
      "       B-geo       0.83      0.87      0.85      7565\n",
      "       B-gpe       0.92      0.91      0.91      3223\n",
      "       B-nat       0.62      0.12      0.20        43\n",
      "       B-org       0.75      0.61      0.67      4031\n",
      "       B-per       0.81      0.71      0.75      3436\n",
      "       B-tim       0.91      0.83      0.87      4106\n",
      "       I-art       0.00      0.00      0.00        55\n",
      "       I-eve       0.00      0.00      0.00        75\n",
      "       I-geo       0.79      0.73      0.76      1542\n",
      "       I-gpe       1.00      0.22      0.36        50\n",
      "       I-nat       0.00      0.00      0.00        10\n",
      "       I-org       0.72      0.70      0.71      3340\n",
      "       I-per       0.81      0.82      0.82      3524\n",
      "       I-tim       0.83      0.67      0.74      1320\n",
      "           O       0.98      0.99      0.99    178024\n",
      "\n",
      "    accuracy                           0.96    210505\n",
      "   macro avg       0.64      0.49      0.53    210505\n",
      "weighted avg       0.95      0.96      0.96    210505\n",
      "\n"
     ]
    }
   ],
   "source": [
    "def evaluate_model(model, test_loader):\n",
    "    model.eval()\n",
    "    true_tags, pred_tags = [], []\n",
    "    with torch.no_grad():\n",
    "        for batch in test_loader:\n",
    "            input_ids = batch[\"input_ids\"].to(device)\n",
    "            labels = batch[\"labels\"].to(device)\n",
    "            outputs = model(input_ids)\n",
    "            preds = torch.argmax(outputs, dim=-1)\n",
    "            for i in range(labels.size(0)):\n",
    "                for j in range(labels.size(1)):\n",
    "                    lab = labels[i, j].item()\n",
    "                    if lab != pad_label_value: \n",
    "                        true_tags.append(idx2tag[lab])\n",
    "                        pred_tags.append(idx2tag[preds[i, j].item()])\n",
    "    return true_tags, pred_tags\n",
    "\n",
    "train_losses, val_losses = train_model(model, train_loader, test_loader, loss_fn, optimizer, epochs=3)\n",
    "true_tags, pred_tags = evaluate_model(model, test_loader)\n",
    "\n",
    "try:\n",
    "    from sklearn.metrics import classification_report\n",
    "    print(\"\\nClassification Report (ignoring PAD):\")\n",
    "    print(classification_report(true_tags, pred_tags, zero_division=0))\n",
    "except Exception as e:\n",
    "    print(\"sklearn not available or other error while creating classification report:\", e)"
   ]
  },
  {
   "cell_type": "code",
   "execution_count": 21,
   "id": "e797a30b-0131-4e4f-8f4c-2bd0d2e1532d",
   "metadata": {},
   "outputs": [
    {
     "data": {
      "image/png": "[encoded data removed]",
      "text/plain": [
       "<Figure size 640x480 with 1 Axes>"
      ]
     },
     "metadata": {},
     "output_type": "display_data"
    }
   ],
   "source": [
    "history_df = pd.DataFrame({\"loss\": train_losses, \"val_loss\": val_losses})\n",
    "history_df.plot(title=\"Loss Over Epochs\")\n",
    "plt.xlabel(\"Epoch\")\n",
    "plt.ylabel(\"Loss\")\n",
    "plt.grid(True)\n",
    "plt.show()\n"
   ]
  },
  {
   "cell_type": "code",
   "execution_count": 22,
   "id": "09ca1518-6393-4b65-8712-9c6dfcc0dcda",
   "metadata": {},
   "outputs": [
    {
     "name": "stdout",
     "output_type": "stream",
     "text": [
      "Word            True         Pred\n",
      "------------------------------------------\n",
      "Also            O            O\n",
      "today           B-tim        B-tim\n",
      ",               O            O\n",
      "the             O            O\n",
      "United          B-org        B-org\n",
      "Nations         I-org        I-org\n",
      "Commission      I-org        I-org\n",
      "on              O            O\n",
      "Human           B-org        B-org\n",
      "Rights          I-org        I-org\n",
      "in              O            O\n",
      "Geneva          B-geo        B-geo\n",
      "urged           O            O\n",
      "Israel          B-geo        B-geo\n",
      "to              O            O\n",
      "stop            O            O\n",
      "building        O            O\n",
      "settlements     O            O\n",
      "in              O            O\n",
      "occupied        O            O\n",
      "Palestinian     B-gpe        B-gpe\n",
      "territory       O            O\n",
      ".               O            O\n"
     ]
    }
   ],
   "source": [
    "sample_idx = 0\n",
    "if sample_idx < len(X_test):\n",
    "    model.eval()\n",
    "    sample = X_test[sample_idx].unsqueeze(0).to(device)\n",
    "    with torch.no_grad():\n",
    "        output = model(sample)\n",
    "        preds = torch.argmax(output, dim=-1).squeeze().cpu().numpy()\n",
    "    true = y_test[sample_idx].numpy()\n",
    "    print(\"{:<15} {:<12} {}\".format(\"Word\", \"True\", \"Pred\"))\n",
    "    print(\"-\" * 42)\n",
    "    for w_id, true_tag_idx, pred_tag_idx in zip(X_test[sample_idx], true, preds):\n",
    "        if w_id.item() != pad_input_value:  \n",
    "            word = words[w_id.item() - 1]   \n",
    "            true_label = idx2tag[int(true_tag_idx)]\n",
    "            pred_label = idx2tag[int(pred_tag_idx)]\n",
    "            print(f\"{word: <15} {true_label: <12} {pred_label}\")\n",
    "else:\n",
    "    print(\"sample_idx out of range for X_test\")"
   ]
  },
  {
   "cell_type": "code",
   "execution_count": null,
   "id": "f8ad64e3-309c-4db9-b506-0a58255342ac",
   "metadata": {},
   "outputs": [],
   "source": []
  }
 ],
 "metadata": {
  "kernelspec": {
   "display_name": "Python 3 (ipykernel)",
   "language": "python",
   "name": "python3"
  },
  "language_info": {
   "codemirror_mode": {
    "name": "ipython",
    "version": 3
   },
   "file_extension": ".py",
   "mimetype": "text/x-python",
   "name": "python",
   "nbconvert_exporter": "python",
   "pygments_lexer": "ipython3",
   "version": "3.11.13"
  }
 },
 "nbformat": 4,
 "nbformat_minor": 5
}
